{
 "cells": [
  {
   "cell_type": "code",
   "execution_count": 5,
   "id": "f58e0285",
   "metadata": {},
   "outputs": [
    {
     "name": "stdout",
     "output_type": "stream",
     "text": [
      "Updated Excel file saved as 'C:/Users/Nelso/OneDrive/Documents/Thesis/data/'\n"
     ]
    }
   ],
   "source": [
    "import pandas as pd\n",
    "from Bio.Seq import Seq\n",
    "from Bio.SeqUtils import MeltingTemp as mt\n",
    "\n",
    "# Load the Excel file\n",
    "file_path = 'C:/Users/Nelso/OneDrive/Documents/Thesis/data/'  # Update this with the path to your Excel file\n",
    "file = 'scrapped_pubmed_vF.xlsx'\n",
    "df = pd.read_excel(file_path+file, header=1)  # Assuming the actual data starts from the second row\n",
    "\n",
    "# Function to calculate melting temperature\n",
    "def calculate_tm(sequence):\n",
    "    if pd.isnull(sequence):\n",
    "        return None\n",
    "    seq = Seq(sequence)\n",
    "    return round(mt.Tm_NN(seq), 2)\n",
    "\n",
    "# Apply the function to calculate Tm for each sequence\n",
    "df['Tm°'] = df['Sequence'].apply(calculate_tm)\n",
    "\n",
    "# Save the updated DataFrame back to an Excel file\n",
    "output_file = 'up_' + file\n",
    "output_file_path = file_path  # You can change this to your preferred output file path\n",
    "df.to_excel(output_file_path+output_file, index=False)\n",
    "\n",
    "print(f\"Updated Excel file saved as '{output_file_path}'\")\n"
   ]
  },
  {
   "cell_type": "code",
   "execution_count": null,
   "id": "ed89a488",
   "metadata": {},
   "outputs": [],
   "source": []
  }
 ],
 "metadata": {
  "kernelspec": {
   "display_name": "Python 3 (ipykernel)",
   "language": "python",
   "name": "python3"
  },
  "language_info": {
   "codemirror_mode": {
    "name": "ipython",
    "version": 3
   },
   "file_extension": ".py",
   "mimetype": "text/x-python",
   "name": "python",
   "nbconvert_exporter": "python",
   "pygments_lexer": "ipython3",
   "version": "3.11.7"
  }
 },
 "nbformat": 4,
 "nbformat_minor": 5
}
