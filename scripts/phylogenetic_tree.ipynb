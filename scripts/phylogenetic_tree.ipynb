{
 "cells": [
  {
   "cell_type": "code",
   "execution_count": null,
   "id": "1379b327",
   "metadata": {},
   "outputs": [],
   "source": [
    "from Bio import Entrez\n",
    "\n",
    "# Always tell NCBI who you are\n",
    "Entrez.email = \"nelson_krisanto@hotmail.com\"\n",
    "\n",
    "def download_sequences(accession_list):\n",
    "    sequences = {}\n",
    "    \n",
    "    for accession in accession_list:\n",
    "        # Fetch the sequence from NCBI\n",
    "        handle = Entrez.efetch(db=\"nucleotide\", id=accession, rettype=\"fasta\", retmode=\"text\")\n",
    "        sequences[accession] = handle.read()\n",
    "        \n",
    "    return sequences\n",
    "\n",
    "# List of accession numbers to download\n",
    "accession_numbers = [\n",
    "    \"DQ235145\", \"AY323490\", \"AF331718\", \"AF253419\", \"Y07863\",\n",
    "    \"D12937\", \"X86784\", \"DQ235152\", \"DQ235151\", \"DQ235153\",\n",
    "    \"AY193805\", \"L06436\", \"AF311056\", \"DQ235149\", \"U27495\",\n",
    "    \"X07755\", \"L40361\", \"DQ235144\", \"DQ235150\", \"KF815939\",\n",
    "    \"DQ235146\", \"AY632536\", \"AF013366\", \"AF013375\", \"AF013390\",\n",
    "    \"U88536\", \"U87411\", \"M93130\", \"AF326573\", \"KF917536\",\n",
    "    \"M18370\", \"AF013384\", \"AF161266\", \"DQ525916\", \"AY453411\",\n",
    "    \"D00246\", \"M12294\", \"AF013413\", \"AY632541\", \"AF013407\",\n",
    "    \"AY632545\", \"AY632539\", \"AF013397\", \"AF013377\", \"JX236040\",\n",
    "    \"JF895923\", \"AY632535\", \"DQ837642\", \"EU707555\", \"X03700\",\n",
    "    \"AY632540\", \"DQ859056\", \"DQ859057\", \"DQ859060\", \"DQ859066\",\n",
    "    \"DQ859067\", \"DQ859062\", \"DQ859065\", \"DQ837641\", \"AF013405\",\n",
    "    \"AB114858\", \"AF160193\", \"AF013370\", \"KJ469371\", \"AJ242984\",\n",
    "    \"AF013401\", \"AF013402\", \"AF013365\", \"AF013368\", \"AF013371\",\n",
    "    \"AJ299445\", \"AF013369\", \"AF013394\", \"AF144692\"\n",
    "]\n",
    "\n",
    "# Downloading sequences\n",
    "sequences = download_sequences(accession_numbers)\n",
    "\n",
    "# Saving sequences to a file\n",
    "with open(\"orthoflavivirus_sequences.fasta\", \"w\") as file:\n",
    "    for accession, sequence in sequences.items():\n",
    "        file.write(sequence)\n",
    "\n",
    "print(\"Sequences downloaded and saved to orthoflavivirus_sequences.fasta\")\n"
   ]
  },
  {
   "cell_type": "markdown",
   "id": "9dc9637b",
   "metadata": {},
   "source": [
    "clean result:\n",
    "- replace \" \" with \"_\"\n",
    "- remove empty lines\n",
    "\n",
    "\n",
    "use https://www.ebi.ac.uk/jdispatcher/msa/muscle/ to align\n",
    "\n",
    "use phylogenetic tree result, and create the tree using iTOL"
   ]
  },
  {
   "cell_type": "markdown",
   "id": "cd1c4808",
   "metadata": {},
   "source": []
  },
  {
   "cell_type": "code",
   "execution_count": null,
   "id": "a83b6aef",
   "metadata": {},
   "outputs": [],
   "source": []
  }
 ],
 "metadata": {
  "kernelspec": {
   "display_name": "Python 3 (ipykernel)",
   "language": "python",
   "name": "python3"
  },
  "language_info": {
   "codemirror_mode": {
    "name": "ipython",
    "version": 3
   },
   "file_extension": ".py",
   "mimetype": "text/x-python",
   "name": "python",
   "nbconvert_exporter": "python",
   "pygments_lexer": "ipython3",
   "version": "3.11.7"
  }
 },
 "nbformat": 4,
 "nbformat_minor": 5
}
